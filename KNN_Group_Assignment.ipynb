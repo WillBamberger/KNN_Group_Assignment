{
 "cells": [
  {
   "cell_type": "code",
   "execution_count": 1,
   "metadata": {},
   "outputs": [
    {
     "name": "stderr",
     "output_type": "stream",
     "text": [
      "/home/wqb/.local/lib/python3.8/site-packages/pandas/core/computation/expressions.py:20: UserWarning: Pandas requires version '2.7.3' or newer of 'numexpr' (version '2.7.1' currently installed).\n",
      "  from pandas.core.computation.check import NUMEXPR_INSTALLED\n"
     ]
    }
   ],
   "source": [
    "# CELL 1\n",
    "\n",
    "import pandas as pd\n",
    "import random\n",
    "import math\n",
    "import statistics\n",
    "import operator\n",
    "\n",
    "def loadDataset(url, split):\n",
    "\ttrainingSet=[]\n",
    "\ttestSet=[]\n",
    "\tdf = pd.read_csv(url, header=None)\n",
    "\tarray = df.to_numpy()\n",
    "\trandom.shuffle(array)\n",
    "\ttraining_len = int(len(array)*split)\n",
    "\ttrainingSet = array[:training_len]\n",
    "\ttestSet = array[training_len:]\n",
    "\treturn trainingSet, testSet\n",
    "\n",
    "\n",
    "def euclideanDistance(instance1, instance2, length):\n",
    "\tdistance = 0\n",
    "\tfor x in range(length):\n",
    "\t\tdistance += pow((instance1[x] - instance2[x]), 2)\n",
    "\treturn math.sqrt(distance)\n",
    "\n",
    "def getNeighbors(trainingSet, testInstance, k):\n",
    "\tdistances = []\n",
    "\tlength = len(testInstance)-1\n",
    "\tfor x in range(len(trainingSet)):\n",
    "\t\tdist = euclideanDistance(testInstance, trainingSet[x], length)\n",
    "\t\tdistances.append((trainingSet[x], dist))\n",
    "\tdistances.sort(key=operator.itemgetter(1))\n",
    "\tneighbors = []\n",
    "\tfor x in range(k):\n",
    "\t\tneighbors.append(distances[x][0])      \n",
    "\treturn neighbors\n",
    "\n",
    "def getResponse(neighbors):\n",
    "\tclassVotes = {}\n",
    "\tfor x in range(len(neighbors)):\n",
    "\t\tresponse = neighbors[x][-1]\n",
    "\t\tif response in classVotes:\n",
    "\t\t\tclassVotes[response] += 1\n",
    "\t\telse:\n",
    "\t\t\tclassVotes[response] = 1\n",
    "\tsortedVotes = sorted(classVotes.items(), key=operator.itemgetter(1), reverse=True)\n",
    "\treturn sortedVotes[0][0]\n",
    "\n",
    "def getAccuracy(testSet, predictions):\n",
    "\tcorrect = 0\n",
    "\tfor x in range(len(testSet)):\n",
    "\t\tif testSet[x][-1] == predictions[x]:\n",
    "\t\t\tcorrect += 1\n",
    "\treturn (correct/float(len(testSet))) * 100.0\n",
    "\t\n",
    "def knnIris(kValue, split):\n",
    "\t# prepare data\n",
    "\ttrainingSet=[]\n",
    "\ttestSet=[]\n",
    "\turl = 'https://raw.githubusercontent.com/ruiwu1990/CSCI_4120/master/KNN/iris.data'\n",
    "\ttrainingSet, testSet = loadDataset(url, split)\n",
    "\t# print('Train set: ' + repr(len(trainingSet)))\n",
    "\t# print('Test set: ' + repr(len(testSet)))\n",
    "\t# generate predictions\n",
    "\tpredictions = []\n",
    "\t# loop through testSet\n",
    "\tfor x in range(len(testSet)):\n",
    "\t\t# TODO starts here\n",
    "\t\t# get neighor between current test record and all training datasets\n",
    "\t\tneighbors = getNeighbors(trainingSet, testSet[x], kValue)\n",
    "\t\t# get response\n",
    "\t\tresult = getResponse(neighbors)\n",
    "\t\t# append current prediction result to predictions list\n",
    "\t\tpredictions.append(result)\n",
    "\t\t# TODO ends here\n",
    "\t\tdel neighbors[:]\n",
    "\taccuracy = getAccuracy(testSet, predictions)\n",
    "\t# print(repr(kValue) + ' Accuracy: ' + repr(accuracy) + '%')\n",
    "\tdel predictions[:]\n",
    "\treturn accuracy"
   ]
  },
  {
   "cell_type": "code",
   "execution_count": 6,
   "metadata": {},
   "outputs": [],
   "source": [
    "# CELL 2\n",
    "\n",
    "def knnMain(split):\n",
    "\tk_list = []\n",
    "\taccuracy_list = []\n",
    "\tfor x in range(1, 6):\n",
    "\t\tfor k in range(1,21):\n",
    "\t\t\tif k > len(k_list):\n",
    "\t\t\t\tk_list.append(k)\n",
    "\t\t\t\taccuracy_list.append(knnIris(k, split))\n",
    "\t\t\telif k < len(k_list):\n",
    "\t\t\t\taccuracy_list[k] += knnIris(k, split)\n",
    "\tfor k in range(len(k_list)):\n",
    "\t\taccuracy_list[k] /= 5\n",
    "        \n",
    "\toverall_accuracy = statistics.mean(accuracy_list)\n",
    "\treturn k_list, accuracy_list, overall_accuracy"
   ]
  },
  {
   "cell_type": "code",
   "execution_count": 9,
   "metadata": {},
   "outputs": [
    {
     "name": "stdout",
     "output_type": "stream",
     "text": [
      "Overall Accuracy: 75.88\n",
      "Maximum Accuracy: 83.6 at k = 5\n"
     ]
    },
    {
     "data": {
      "image/png": "[encoded data removed]",
      "text/plain": [
       "<Figure size 432x288 with 1 Axes>"
      ]
     },
     "metadata": {},
     "output_type": "display_data"
    }
   ],
   "source": [
    "# CELL 3\n",
    "\n",
    "import matplotlib.pyplot as plt\n",
    "import numpy as np\n",
    "\n",
    "k_list, accuracy_list, overall_accuracy = knnMain(0.67)\n",
    "print(\"Overall Accuracy: \" + repr(overall_accuracy))\n",
    "print(\"Maximum Accuracy: \" + repr(max(accuracy_list)) + \" at k = \" + repr(k_list[accuracy_list.index(max(accuracy_list))]))\n",
    "\n",
    "plt.style.use('Solarize_Light2')\n",
    "plt.plot(k_list,accuracy_list);\n",
    "\n",
    "plt.xticks(np.arange(min(k_list), max(k_list), 1.0));\n",
    "plt.yticks(np.arange(round(min(accuracy_list), -1) - 10, 101, 5.0));"
   ]
  },
  {
   "cell_type": "code",
   "execution_count": null,
   "metadata": {},
   "outputs": [],
   "source": []
  }
 ],
 "metadata": {
  "kernelspec": {
   "display_name": "Python 3",
   "language": "python",
   "name": "python3"
  },
  "language_info": {
   "codemirror_mode": {
    "name": "ipython",
    "version": 3
   },
   "file_extension": ".py",
   "mimetype": "text/x-python",
   "name": "python",
   "nbconvert_exporter": "python",
   "pygments_lexer": "ipython3",
   "version": "3.8.10"
  }
 },
 "nbformat": 4,
 "nbformat_minor": 4
}
